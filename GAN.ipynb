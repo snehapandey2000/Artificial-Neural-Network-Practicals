{
  "nbformat": 4,
  "nbformat_minor": 0,
  "metadata": {
    "colab": {
      "provenance": []
    },
    "kernelspec": {
      "name": "python3",
      "display_name": "Python 3"
    },
    "language_info": {
      "name": "python"
    }
  },
  "cells": [
    {
      "cell_type": "code",
      "execution_count": 19,
      "metadata": {
        "id": "MFznLYyEahhy"
      },
      "outputs": [],
      "source": [
        "import torch\n",
        "from torch import nn\n",
        "import math\n",
        "import matplotlib.pyplot as plt"
      ]
    },
    {
      "cell_type": "code",
      "source": [
        "train_data_length = 1024\n",
        "train_data = torch.zeros((train_data_length, 2))\n",
        "train_data[:, 0] = 2 * math.pi * torch.rand(train_data_length)\n",
        "train_data[:, 1] = torch.sin(train_data[:, 0])\n",
        "train_labels = torch.zeros(train_data_length)\n",
        "train_set = [\n",
        "    (train_data[i], train_labels[i]) for i in range(train_data_length)\n",
        "]\n"
      ],
      "metadata": {
        "id": "lj2gsr7mci4h"
      },
      "execution_count": 2,
      "outputs": []
    },
    {
      "cell_type": "code",
      "source": [
        "plt.plot(train_data[:, 0], train_data[:, 1], \".\")"
      ],
      "metadata": {
        "colab": {
          "base_uri": "https://localhost:8080/",
          "height": 447
        },
        "id": "sagfLSLzcl4M",
        "outputId": "52148ef0-e541-4b82-afce-ca7e9f3c2141"
      },
      "execution_count": 3,
      "outputs": [
        {
          "output_type": "execute_result",
          "data": {
            "text/plain": [
              "[<matplotlib.lines.Line2D at 0x7f4f97a32d90>]"
            ]
          },
          "metadata": {},
          "execution_count": 3
        },
        {
          "output_type": "display_data",
          "data": {
            "text/plain": [
              "<Figure size 640x480 with 1 Axes>"
            ],
            "image/png": "[encoded data removed]"
          },
          "metadata": {}
        }
      ]
    },
    {
      "cell_type": "code",
      "source": [
        "batch_size = 32\n",
        "train_loader = torch.utils.data.DataLoader(\n",
        "    train_set, batch_size=batch_size, shuffle=True\n",
        ")"
      ],
      "metadata": {
        "id": "hZaPINYRcqBW"
      },
      "execution_count": 4,
      "outputs": []
    },
    {
      "cell_type": "code",
      "source": [
        "class Discriminator(nn.Module):\n",
        "    def __init__(self):\n",
        "        super().__init__()\n",
        "        self.model = nn.Sequential(\n",
        "            nn.Linear(2, 256),\n",
        "            nn.ReLU(),\n",
        "            nn.Dropout(0.3),\n",
        "            nn.Linear(256, 128),\n",
        "            nn.ReLU(),\n",
        "            nn.Dropout(0.3),\n",
        "            nn.Linear(128, 64),\n",
        "            nn.ReLU(),\n",
        "            nn.Dropout(0.3),\n",
        "            nn.Linear(64, 1),\n",
        "            nn.Sigmoid(),\n",
        "        )\n",
        "\n",
        "    def forward(self, x):\n",
        "        output = self.model(x)\n",
        "        return output\n"
      ],
      "metadata": {
        "id": "p7Gjvv-LcuEQ"
      },
      "execution_count": 5,
      "outputs": []
    },
    {
      "cell_type": "code",
      "source": [
        "discriminator = Discriminator()\n"
      ],
      "metadata": {
        "id": "bOErULlQc1oF"
      },
      "execution_count": 6,
      "outputs": []
    },
    {
      "cell_type": "code",
      "source": [
        "class Generator(nn.Module):\n",
        "    def __init__(self):\n",
        "        super().__init__()\n",
        "        self.model = nn.Sequential(\n",
        "            nn.Linear(2, 16),\n",
        "            nn.ReLU(),\n",
        "            nn.Linear(16, 32),\n",
        "            nn.ReLU(),\n",
        "            nn.Linear(32, 2),\n",
        "        )\n",
        "\n",
        "    def forward(self, x):\n",
        "        output = self.model(x)\n",
        "        return output\n",
        "\n",
        "generator = Generator()"
      ],
      "metadata": {
        "id": "BvnHrbh8c449"
      },
      "execution_count": 7,
      "outputs": []
    },
    {
      "cell_type": "code",
      "source": [
        "lr = 0.001\n",
        "num_epochs = 300\n",
        "loss_function = nn.BCELoss()"
      ],
      "metadata": {
        "id": "7IW3wUIhc8_h"
      },
      "execution_count": 14,
      "outputs": []
    },
    {
      "cell_type": "code",
      "source": [
        "optimizer_discriminator = torch.optim.Adam(discriminator.parameters(), lr=lr)\n",
        "optimizer_generator = torch.optim.Adam(generator.parameters(), lr=lr)"
      ],
      "metadata": {
        "id": "GtK08OzvdFGO"
      },
      "execution_count": 15,
      "outputs": []
    },
    {
      "cell_type": "code",
      "source": [
        "for epoch in range(num_epochs):\n",
        "    for n, (real_samples, _) in enumerate(train_loader):\n",
        "        # Data for training the discriminator\n",
        "        real_samples_labels = torch.ones((batch_size, 1))\n",
        "        latent_space_samples = torch.randn((batch_size, 2))\n",
        "        generated_samples = generator(latent_space_samples)\n",
        "        generated_samples_labels = torch.zeros((batch_size, 1))\n",
        "        all_samples = torch.cat((real_samples, generated_samples))\n",
        "        all_samples_labels = torch.cat(\n",
        "            (real_samples_labels, generated_samples_labels)\n",
        "        )\n",
        "\n",
        "        # Training the discriminator\n",
        "        discriminator.zero_grad()\n",
        "        output_discriminator = discriminator(all_samples)\n",
        "        loss_discriminator = loss_function(\n",
        "            output_discriminator, all_samples_labels)\n",
        "        loss_discriminator.backward()\n",
        "        optimizer_discriminator.step()\n",
        "\n",
        "        # Data for training the generator\n",
        "        latent_space_samples = torch.randn((batch_size, 2))\n",
        "\n",
        "        # Training the generator\n",
        "        generator.zero_grad()\n",
        "        generated_samples = generator(latent_space_samples)\n",
        "        output_discriminator_generated = discriminator(generated_samples)\n",
        "        loss_generator = loss_function(\n",
        "            output_discriminator_generated, real_samples_labels\n",
        "        )\n",
        "        loss_generator.backward()\n",
        "        optimizer_generator.step()\n",
        "\n",
        "        # Show loss\n",
        "        if epoch % 10 == 0 and n == batch_size - 1:\n",
        "            print(f\"Epoch: {epoch} Loss D.: {loss_discriminator}\")\n",
        "            print(f\"Epoch: {epoch} Loss G.: {loss_generator}\")\n"
      ],
      "metadata": {
        "colab": {
          "base_uri": "https://localhost:8080/"
        },
        "id": "lCrLTZOUdHmk",
        "outputId": "4f113b3e-d701-42ea-965d-b7e95eb2157e"
      },
      "execution_count": 16,
      "outputs": [
        {
          "output_type": "stream",
          "name": "stdout",
          "text": [
            "Epoch: 0 Loss D.: 0.7046903371810913\n",
            "Epoch: 0 Loss G.: 0.8406708836555481\n",
            "Epoch: 10 Loss D.: 0.5880347490310669\n",
            "Epoch: 10 Loss G.: 0.8114491701126099\n",
            "Epoch: 20 Loss D.: 0.5598092079162598\n",
            "Epoch: 20 Loss G.: 0.9477238059043884\n",
            "Epoch: 30 Loss D.: 0.639237105846405\n",
            "Epoch: 30 Loss G.: 0.8435221910476685\n",
            "Epoch: 40 Loss D.: 0.6399207711219788\n",
            "Epoch: 40 Loss G.: 0.7246193289756775\n",
            "Epoch: 50 Loss D.: 0.6963464021682739\n",
            "Epoch: 50 Loss G.: 0.7818323373794556\n",
            "Epoch: 60 Loss D.: 0.7058674693107605\n",
            "Epoch: 60 Loss G.: 0.7751148343086243\n",
            "Epoch: 70 Loss D.: 0.6979044675827026\n",
            "Epoch: 70 Loss G.: 0.6520583033561707\n",
            "Epoch: 80 Loss D.: 0.6986516118049622\n",
            "Epoch: 80 Loss G.: 0.7051290273666382\n",
            "Epoch: 90 Loss D.: 0.6920775175094604\n",
            "Epoch: 90 Loss G.: 0.693645179271698\n",
            "Epoch: 100 Loss D.: 0.6265221238136292\n",
            "Epoch: 100 Loss G.: 0.970081627368927\n",
            "Epoch: 110 Loss D.: 0.7276900410652161\n",
            "Epoch: 110 Loss G.: 0.7670111656188965\n",
            "Epoch: 120 Loss D.: 0.6144198775291443\n",
            "Epoch: 120 Loss G.: 0.8079552054405212\n",
            "Epoch: 130 Loss D.: 0.5599686503410339\n",
            "Epoch: 130 Loss G.: 0.8724119067192078\n",
            "Epoch: 140 Loss D.: 0.7243344783782959\n",
            "Epoch: 140 Loss G.: 0.6849079132080078\n",
            "Epoch: 150 Loss D.: 0.6395322680473328\n",
            "Epoch: 150 Loss G.: 0.767601490020752\n",
            "Epoch: 160 Loss D.: 0.7082139849662781\n",
            "Epoch: 160 Loss G.: 0.8083531856536865\n",
            "Epoch: 170 Loss D.: 0.6631779670715332\n",
            "Epoch: 170 Loss G.: 0.7871294021606445\n",
            "Epoch: 180 Loss D.: 0.6610547304153442\n",
            "Epoch: 180 Loss G.: 0.8348640203475952\n",
            "Epoch: 190 Loss D.: 0.7211702466011047\n",
            "Epoch: 190 Loss G.: 0.77275550365448\n",
            "Epoch: 200 Loss D.: 0.6788715124130249\n",
            "Epoch: 200 Loss G.: 1.0045750141143799\n",
            "Epoch: 210 Loss D.: 0.6982818245887756\n",
            "Epoch: 210 Loss G.: 0.7117935419082642\n",
            "Epoch: 220 Loss D.: 0.6843799352645874\n",
            "Epoch: 220 Loss G.: 0.822701096534729\n",
            "Epoch: 230 Loss D.: 0.6571643352508545\n",
            "Epoch: 230 Loss G.: 0.7418937087059021\n",
            "Epoch: 240 Loss D.: 0.6838520765304565\n",
            "Epoch: 240 Loss G.: 0.6915358901023865\n",
            "Epoch: 250 Loss D.: 0.6452758312225342\n",
            "Epoch: 250 Loss G.: 0.8013318777084351\n",
            "Epoch: 260 Loss D.: 0.6093876361846924\n",
            "Epoch: 260 Loss G.: 0.8088968396186829\n",
            "Epoch: 270 Loss D.: 0.7160634994506836\n",
            "Epoch: 270 Loss G.: 0.660603404045105\n",
            "Epoch: 280 Loss D.: 0.722570538520813\n",
            "Epoch: 280 Loss G.: 0.855353832244873\n",
            "Epoch: 290 Loss D.: 0.7466533184051514\n",
            "Epoch: 290 Loss G.: 0.7393110394477844\n"
          ]
        }
      ]
    },
    {
      "cell_type": "code",
      "source": [
        "latent_space_samples = torch.randn(100, 2)\n",
        "generated_samples = generator(latent_space_samples)"
      ],
      "metadata": {
        "id": "lmNa1CqKdP_U"
      },
      "execution_count": 17,
      "outputs": []
    },
    {
      "cell_type": "code",
      "source": [
        "generated_samples = generated_samples.detach()\n",
        "plt.plot(generated_samples[:, 0], generated_samples[:, 1], \".\")"
      ],
      "metadata": {
        "colab": {
          "base_uri": "https://localhost:8080/",
          "height": 447
        },
        "id": "V6CB6-hWdV0x",
        "outputId": "401b39aa-3e20-4c16-f4b8-652a1011417b"
      },
      "execution_count": 18,
      "outputs": [
        {
          "output_type": "execute_result",
          "data": {
            "text/plain": [
              "[<matplotlib.lines.Line2D at 0x7f4f94fd88e0>]"
            ]
          },
          "metadata": {},
          "execution_count": 18
        },
        {
          "output_type": "display_data",
          "data": {
            "text/plain": [
              "<Figure size 640x480 with 1 Axes>"
            ],
            "image/png": "[encoded data removed]"
          },
          "metadata": {}
        }
      ]
    }
  ]
}